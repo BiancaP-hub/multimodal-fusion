{
 "cells": [
  {
   "cell_type": "markdown",
   "metadata": {},
   "source": [
    "### Training"
   ]
  },
  {
   "cell_type": "code",
   "execution_count": null,
   "metadata": {},
   "outputs": [],
   "source": [
    "# Change arguments directly in the train.py file\n",
    "%run train.py"
   ]
  },
  {
   "cell_type": "markdown",
   "metadata": {},
   "source": [
    "### Testing"
   ]
  },
  {
   "cell_type": "code",
   "execution_count": 1,
   "metadata": {},
   "outputs": [
    {
     "name": "stdout",
     "output_type": "stream",
     "text": [
      "2.10.0\n",
      "Batch size: 1\n",
      "Total number of patients: 267\n",
      "Number of training samples: 13312\n",
      "Number of validation samples: 1652\n",
      "Number of test samples: 1778\n",
      "Loaded model with combined loss and multi-scale features\n",
      "Average FMI on test set: 0.8530705741676332\n",
      "Average SSIM on test set: 0.77211595\n"
     ]
    }
   ],
   "source": [
    "# Change arguments directly in the test.py file\n",
    "%run test.py"
   ]
  },
  {
   "cell_type": "markdown",
   "metadata": {},
   "source": [
    "### Evaluation"
   ]
  },
  {
   "cell_type": "markdown",
   "metadata": {},
   "source": [
    "#### Fused image segmentations vs ground truths"
   ]
  },
  {
   "cell_type": "markdown",
   "metadata": {},
   "source": [
    "##### 1. SSIM loss without multi-scale features"
   ]
  },
  {
   "cell_type": "code",
   "execution_count": 4,
   "metadata": {},
   "outputs": [
    {
     "name": "stdout",
     "output_type": "stream",
     "text": [
      "Found 22 segmentation images and 22 mask images.\n",
      "Overall Dice coefficient: 0.5182\n"
     ]
    }
   ],
   "source": [
    "%run evaluate.py --seg_dir results/reconstructed_images/ssim/T2w_aligned --mask_dir results/masks/T2w"
   ]
  },
  {
   "cell_type": "code",
   "execution_count": 2,
   "metadata": {},
   "outputs": [
    {
     "name": "stdout",
     "output_type": "stream",
     "text": [
      "Found 22 segmentation images and 22 mask images.\n",
      "Overall Dice coefficient: 0.4148\n"
     ]
    }
   ],
   "source": [
    "%run evaluate.py --seg_dir results/reconstructed_images/ssim/T1w_aligned --mask_dir results/masks/T1w"
   ]
  },
  {
   "cell_type": "markdown",
   "metadata": {},
   "source": [
    "##### 2. SSIM loss with multi-scale features"
   ]
  },
  {
   "cell_type": "code",
   "execution_count": 4,
   "metadata": {},
   "outputs": [
    {
     "name": "stdout",
     "output_type": "stream",
     "text": [
      "Found 22 segmentation images and 22 mask images.\n",
      "Overall Dice coefficient: 0.5186\n"
     ]
    }
   ],
   "source": [
    "%run evaluate.py --seg_dir results/reconstructed_images/ssim_multi_scale/T2w_aligned --mask_dir results/masks/T2w"
   ]
  },
  {
   "cell_type": "code",
   "execution_count": 5,
   "metadata": {},
   "outputs": [
    {
     "name": "stdout",
     "output_type": "stream",
     "text": [
      "Found 22 segmentation images and 22 mask images.\n",
      "Overall Dice coefficient: 0.4166\n"
     ]
    }
   ],
   "source": [
    "%run evaluate.py --seg_dir results/reconstructed_images/ssim_multi_scale/T1w_aligned --mask_dir results/masks/T1w"
   ]
  },
  {
   "cell_type": "markdown",
   "metadata": {},
   "source": [
    "##### 3. SSIM and pixel loss without multi-scale features"
   ]
  },
  {
   "cell_type": "code",
   "execution_count": 6,
   "metadata": {},
   "outputs": [
    {
     "name": "stdout",
     "output_type": "stream",
     "text": [
      "Found 22 segmentation images and 22 mask images.\n",
      "Overall Dice coefficient: 0.5180\n"
     ]
    }
   ],
   "source": [
    "%run evaluate.py --seg_dir results/reconstructed_images/ssim_pixel/T2w_aligned --mask_dir results/masks/T2w"
   ]
  },
  {
   "cell_type": "code",
   "execution_count": 7,
   "metadata": {},
   "outputs": [
    {
     "name": "stdout",
     "output_type": "stream",
     "text": [
      "Found 22 segmentation images and 22 mask images.\n",
      "Overall Dice coefficient: 0.4162\n"
     ]
    }
   ],
   "source": [
    "%run evaluate.py --seg_dir results/reconstructed_images/ssim_pixel/T1w_aligned --mask_dir results/masks/T1w"
   ]
  },
  {
   "cell_type": "markdown",
   "metadata": {},
   "source": [
    "##### 4. SSIM and pixel loss with multi-scale features"
   ]
  },
  {
   "cell_type": "code",
   "execution_count": 10,
   "metadata": {},
   "outputs": [
    {
     "name": "stdout",
     "output_type": "stream",
     "text": [
      "Found 22 segmentation images and 22 mask images.\n",
      "Overall Dice coefficient: 0.5164\n"
     ]
    }
   ],
   "source": [
    "%run evaluate.py --seg_dir results/reconstructed_images/ssim_pixel_multi_scale/T2w_aligned --mask_dir results/masks/T2w"
   ]
  },
  {
   "cell_type": "code",
   "execution_count": 11,
   "metadata": {},
   "outputs": [
    {
     "name": "stdout",
     "output_type": "stream",
     "text": [
      "Found 22 segmentation images and 22 mask images.\n",
      "Overall Dice coefficient: 0.3953\n"
     ]
    }
   ],
   "source": [
    "%run evaluate.py --seg_dir results/reconstructed_images/ssim_pixel_multi_scale/T1w_aligned --mask_dir results/masks/T1w"
   ]
  },
  {
   "cell_type": "markdown",
   "metadata": {},
   "source": [
    "#### T2w image segmentations vs ground truths"
   ]
  },
  {
   "cell_type": "code",
   "execution_count": 7,
   "metadata": {},
   "outputs": [
    {
     "name": "stdout",
     "output_type": "stream",
     "text": [
      "Found 22 segmentation images and 22 mask images.\n",
      "Overall Dice coefficient: 0.5240\n"
     ]
    }
   ],
   "source": [
    "%run evaluate.py --seg_dir results/input_images/T2w --mask_dir results/masks/T2w"
   ]
  },
  {
   "cell_type": "markdown",
   "metadata": {},
   "source": [
    "#### T1w image segmentations vs ground truths"
   ]
  },
  {
   "cell_type": "code",
   "execution_count": 1,
   "metadata": {},
   "outputs": [
    {
     "name": "stdout",
     "output_type": "stream",
     "text": [
      "Found 22 segmentation images and 22 mask images.\n",
      "Overall Dice coefficient: 0.5314\n"
     ]
    }
   ],
   "source": [
    "%run evaluate.py --seg_dir results/input_images/T1w --mask_dir results/masks/T1w"
   ]
  }
 ],
 "metadata": {
  "kernelspec": {
   "display_name": "tf",
   "language": "python",
   "name": "python3"
  },
  "language_info": {
   "codemirror_mode": {
    "name": "ipython",
    "version": 3
   },
   "file_extension": ".py",
   "mimetype": "text/x-python",
   "name": "python",
   "nbconvert_exporter": "python",
   "pygments_lexer": "ipython3",
   "version": "3.9.0"
  }
 },
 "nbformat": 4,
 "nbformat_minor": 2
}
