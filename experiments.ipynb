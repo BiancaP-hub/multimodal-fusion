{
 "cells": [
  {
   "cell_type": "markdown",
   "metadata": {},
   "source": [
    "### Training"
   ]
  },
  {
   "cell_type": "code",
   "execution_count": null,
   "metadata": {},
   "outputs": [],
   "source": [
    "# Change arguments directly in the train.py file\n",
    "%run train.py"
   ]
  },
  {
   "cell_type": "markdown",
   "metadata": {},
   "source": [
    "### Testing"
   ]
  },
  {
   "cell_type": "code",
   "execution_count": 3,
   "metadata": {},
   "outputs": [
    {
     "name": "stdout",
     "output_type": "stream",
     "text": [
      "2.10.0\n",
      "Batch size: 1\n",
      "Total number of patients: 267\n",
      "Number of training samples: 13312\n",
      "Number of validation samples: 1652\n",
      "Number of test samples: 1778\n",
      "Loaded model with ssim loss\n",
      "Saved fused image for patient sub-unf07 at results\\fused_image_sub-unf07_T2w_T1w_0.png\n",
      "Saved fused image for patient sub-unf07 at results\\fused_image_sub-unf07_T2w_T1w_1.png\n",
      "Saved fused image for patient sub-unf07 at results\\fused_image_sub-unf07_T2w_T1w_2.png\n",
      "Saved fused image for patient sub-unf07 at results\\fused_image_sub-unf07_T2w_T1w_3.png\n",
      "Saved fused image for patient sub-unf07 at results\\fused_image_sub-unf07_T2w_T1w_4.png\n",
      "Saved fused image for patient sub-unf07 at results\\fused_image_sub-unf07_T2w_T1w_5.png\n",
      "Saved fused image for patient sub-unf07 at results\\fused_image_sub-unf07_T2w_T1w_6.png\n",
      "Saved fused image for patient sub-unf07 at results\\fused_image_sub-unf07_T2w_T1w_7.png\n",
      "Saved fused image for patient sub-unf07 at results\\fused_image_sub-unf07_T2w_T1w_8.png\n",
      "Saved fused image for patient sub-unf07 at results\\fused_image_sub-unf07_T2w_T1w_9.png\n",
      "Saved fused image for patient sub-unf07 at results\\fused_image_sub-unf07_T2w_T1w_10.png\n",
      "Saved fused image for patient sub-unf07 at results\\fused_image_sub-unf07_T2w_T1w_11.png\n"
     ]
    },
    {
     "ename": "KeyboardInterrupt",
     "evalue": "",
     "output_type": "error",
     "traceback": [
      "\u001b[1;31m---------------------------------------------------------------------------\u001b[0m",
      "\u001b[1;31mKeyboardInterrupt\u001b[0m                         Traceback (most recent call last)",
      "File \u001b[1;32m~\\Documents\\GitHub\\multimodal-fusion\\test.py:90\u001b[0m\n\u001b[0;32m     87\u001b[0m         \u001b[38;5;28mprint\u001b[39m(\u001b[38;5;124m\"\u001b[39m\u001b[38;5;124mLoaded model with combined loss\u001b[39m\u001b[38;5;124m\"\u001b[39m)    \n\u001b[0;32m     89\u001b[0m \u001b[38;5;66;03m# Test the model\u001b[39;00m\n\u001b[1;32m---> 90\u001b[0m \u001b[43mtest_model\u001b[49m\u001b[43m(\u001b[49m\u001b[43margs\u001b[49m\u001b[38;5;241;43m.\u001b[39;49m\u001b[43mmodalities\u001b[49m\u001b[43m,\u001b[49m\u001b[43m \u001b[49m\u001b[43mmodel\u001b[49m\u001b[43m,\u001b[49m\u001b[43m \u001b[49m\u001b[43mtest_dataset\u001b[49m\u001b[43m)\u001b[49m\n",
      "File \u001b[1;32m~\\Documents\\GitHub\\multimodal-fusion\\test.py:47\u001b[0m, in \u001b[0;36mtest_model\u001b[1;34m(modalities, model, test_dataset)\u001b[0m\n\u001b[0;32m     45\u001b[0m test_output \u001b[38;5;241m=\u001b[39m model([image1, image2], training\u001b[38;5;241m=\u001b[39m\u001b[38;5;28;01mFalse\u001b[39;00m)  \u001b[38;5;66;03m# Generate predictions\u001b[39;00m\n\u001b[0;32m     46\u001b[0m save_fused_image(modalities, test_output, images[\u001b[38;5;124m'\u001b[39m\u001b[38;5;124mpatient_id\u001b[39m\u001b[38;5;124m'\u001b[39m])  \u001b[38;5;66;03m# Save the fused image\u001b[39;00m\n\u001b[1;32m---> 47\u001b[0m fmi_score \u001b[38;5;241m=\u001b[39m \u001b[43mfmi\u001b[49m\u001b[43m(\u001b[49m\u001b[43mimage1\u001b[49m\u001b[43m,\u001b[49m\u001b[43m \u001b[49m\u001b[43mimage2\u001b[49m\u001b[43m,\u001b[49m\u001b[43m \u001b[49m\u001b[43mtest_output\u001b[49m\u001b[43m,\u001b[49m\u001b[43m \u001b[49m\u001b[43meng\u001b[49m\u001b[43m)\u001b[49m  \u001b[38;5;66;03m# Calculate FMI score between ground truth and prediction\u001b[39;00m\n\u001b[0;32m     48\u001b[0m ssim_score \u001b[38;5;241m=\u001b[39m ssim([image1, image2], test_output)\n\u001b[0;32m     49\u001b[0m fmi_scores\u001b[38;5;241m.\u001b[39mappend(fmi_score)\n",
      "File \u001b[1;32m~\\Documents\\GitHub\\multimodal-fusion\\evaluation\\FMI.py:61\u001b[0m, in \u001b[0;36mfmi\u001b[1;34m(images1, images2, output_images, eng)\u001b[0m\n\u001b[0;32m     55\u001b[0m     fmi_scores\u001b[38;5;241m.\u001b[39mappend(eng\u001b[38;5;241m.\u001b[39mfmi(ima, imb, imf))\n\u001b[0;32m     57\u001b[0m \u001b[38;5;66;03m# # Stop MATLAB engine\u001b[39;00m\n\u001b[0;32m     58\u001b[0m \u001b[38;5;66;03m# eng.quit()\u001b[39;00m\n\u001b[0;32m     59\u001b[0m \n\u001b[0;32m     60\u001b[0m \u001b[38;5;66;03m# Delete the tmp directory and all its contents\u001b[39;00m\n\u001b[1;32m---> 61\u001b[0m \u001b[43mos\u001b[49m\u001b[38;5;241;43m.\u001b[39;49m\u001b[43msystem\u001b[49m\u001b[43m(\u001b[49m\u001b[38;5;124;43m'\u001b[39;49m\u001b[38;5;124;43mrm -rf tmp\u001b[39;49m\u001b[38;5;124;43m'\u001b[39;49m\u001b[43m)\u001b[49m\n\u001b[0;32m     63\u001b[0m \u001b[38;5;28;01mreturn\u001b[39;00m np\u001b[38;5;241m.\u001b[39mmean(fmi_scores)\n",
      "\u001b[1;31mKeyboardInterrupt\u001b[0m: "
     ]
    }
   ],
   "source": [
    "# Change arguments directly in the test.py file\n",
    "%run test.py"
   ]
  },
  {
   "cell_type": "markdown",
   "metadata": {},
   "source": [
    "### Evaluation"
   ]
  },
  {
   "cell_type": "markdown",
   "metadata": {},
   "source": [
    "#### Fused image segmentations vs ground truths"
   ]
  },
  {
   "cell_type": "markdown",
   "metadata": {},
   "source": [
    "##### 1. SSIM loss without multi-scale features"
   ]
  },
  {
   "cell_type": "code",
   "execution_count": 4,
   "metadata": {},
   "outputs": [
    {
     "name": "stdout",
     "output_type": "stream",
     "text": [
      "Found 22 segmentation images and 22 mask images.\n",
      "Overall Dice coefficient: 0.5182\n"
     ]
    }
   ],
   "source": [
    "%run evaluate.py --seg_dir results/reconstructed_images/ssim/T2w_aligned --mask_dir results/masks/T2w"
   ]
  },
  {
   "cell_type": "code",
   "execution_count": 2,
   "metadata": {},
   "outputs": [
    {
     "name": "stdout",
     "output_type": "stream",
     "text": [
      "Found 22 segmentation images and 22 mask images.\n"
     ]
    },
    {
     "ename": "ValueError",
     "evalue": "operands could not be broadcast together with shapes (320,320,63) (320,320,192) ",
     "output_type": "error",
     "traceback": [
      "\u001b[1;31m---------------------------------------------------------------------------\u001b[0m",
      "\u001b[1;31mValueError\u001b[0m                                Traceback (most recent call last)",
      "File \u001b[1;32m~\\Documents\\GitHub\\multimodal-fusion\\evaluate.py:62\u001b[0m\n\u001b[0;32m     58\u001b[0m parser\u001b[38;5;241m.\u001b[39madd_argument(\u001b[38;5;124m'\u001b[39m\u001b[38;5;124m--mask_dir\u001b[39m\u001b[38;5;124m'\u001b[39m, \u001b[38;5;28mtype\u001b[39m\u001b[38;5;241m=\u001b[39m\u001b[38;5;28mstr\u001b[39m, required\u001b[38;5;241m=\u001b[39m\u001b[38;5;28;01mTrue\u001b[39;00m, help\u001b[38;5;241m=\u001b[39m\u001b[38;5;124m'\u001b[39m\u001b[38;5;124mDirectory containing mask images.\u001b[39m\u001b[38;5;124m'\u001b[39m)\n\u001b[0;32m     60\u001b[0m args \u001b[38;5;241m=\u001b[39m parser\u001b[38;5;241m.\u001b[39mparse_args()\n\u001b[1;32m---> 62\u001b[0m \u001b[43mevaluate_dice\u001b[49m\u001b[43m(\u001b[49m\u001b[43margs\u001b[49m\u001b[38;5;241;43m.\u001b[39;49m\u001b[43mseg_dir\u001b[49m\u001b[43m,\u001b[49m\u001b[43m \u001b[49m\u001b[43margs\u001b[49m\u001b[38;5;241;43m.\u001b[39;49m\u001b[43mmask_dir\u001b[49m\u001b[43m)\u001b[49m\n",
      "File \u001b[1;32m~\\Documents\\GitHub\\multimodal-fusion\\evaluate.py:49\u001b[0m, in \u001b[0;36mevaluate_dice\u001b[1;34m(segmentation_dir, mask_dir)\u001b[0m\n\u001b[0;32m     46\u001b[0m     \u001b[38;5;28;01mif\u001b[39;00m mask_img\u001b[38;5;241m.\u001b[39mshape \u001b[38;5;241m!=\u001b[39m segmentation_img\u001b[38;5;241m.\u001b[39mshape:\n\u001b[0;32m     47\u001b[0m         mask_img \u001b[38;5;241m=\u001b[39m np\u001b[38;5;241m.\u001b[39mtranspose(mask_img, (\u001b[38;5;241m2\u001b[39m, \u001b[38;5;241m1\u001b[39m, \u001b[38;5;241m0\u001b[39m))\n\u001b[1;32m---> 49\u001b[0m     dice_score \u001b[38;5;241m=\u001b[39m \u001b[43mdice_coefficient\u001b[49m\u001b[43m(\u001b[49m\u001b[43msegmentation_img\u001b[49m\u001b[43m,\u001b[49m\u001b[43m \u001b[49m\u001b[43mmask_img\u001b[49m\u001b[43m)\u001b[49m\n\u001b[0;32m     50\u001b[0m     dice_scores\u001b[38;5;241m.\u001b[39mappend(dice_score)\n\u001b[0;32m     52\u001b[0m overall_dice \u001b[38;5;241m=\u001b[39m np\u001b[38;5;241m.\u001b[39mmean(dice_scores)\n",
      "File \u001b[1;32m~\\Documents\\GitHub\\multimodal-fusion\\evaluation\\Dice.py:16\u001b[0m, in \u001b[0;36mdice_coefficient\u001b[1;34m(segmentation_img, mask_img)\u001b[0m\n\u001b[0;32m     14\u001b[0m segmentation_img \u001b[38;5;241m=\u001b[39m np\u001b[38;5;241m.\u001b[39mwhere(segmentation_img \u001b[38;5;241m>\u001b[39m \u001b[38;5;241m0\u001b[39m, \u001b[38;5;241m1\u001b[39m, \u001b[38;5;241m0\u001b[39m)\n\u001b[0;32m     15\u001b[0m mask_img \u001b[38;5;241m=\u001b[39m np\u001b[38;5;241m.\u001b[39mwhere(mask_img \u001b[38;5;241m>\u001b[39m \u001b[38;5;241m0\u001b[39m, \u001b[38;5;241m1\u001b[39m, \u001b[38;5;241m0\u001b[39m)\n\u001b[1;32m---> 16\u001b[0m intersection \u001b[38;5;241m=\u001b[39m np\u001b[38;5;241m.\u001b[39msum(\u001b[43msegmentation_img\u001b[49m\u001b[43m \u001b[49m\u001b[38;5;241;43m*\u001b[39;49m\u001b[43m \u001b[49m\u001b[43mmask_img\u001b[49m)\n\u001b[0;32m     17\u001b[0m union \u001b[38;5;241m=\u001b[39m np\u001b[38;5;241m.\u001b[39msum(segmentation_img) \u001b[38;5;241m+\u001b[39m np\u001b[38;5;241m.\u001b[39msum(mask_img)\n\u001b[0;32m     19\u001b[0m \u001b[38;5;28;01mreturn\u001b[39;00m \u001b[38;5;241m2.0\u001b[39m \u001b[38;5;241m*\u001b[39m intersection \u001b[38;5;241m/\u001b[39m union\n",
      "\u001b[1;31mValueError\u001b[0m: operands could not be broadcast together with shapes (320,320,63) (320,320,192) "
     ]
    }
   ],
   "source": [
    "%run evaluate.py --seg_dir results/reconstructed_images/ssim/T1w_aligned --mask_dir results/masks/T1w"
   ]
  },
  {
   "cell_type": "markdown",
   "metadata": {},
   "source": [
    "Overall Dice coefficient: 0.5254"
   ]
  },
  {
   "cell_type": "markdown",
   "metadata": {},
   "source": [
    "##### 2. SSIM loss with multi-scale features"
   ]
  },
  {
   "cell_type": "code",
   "execution_count": 5,
   "metadata": {},
   "outputs": [
    {
     "name": "stdout",
     "output_type": "stream",
     "text": [
      "Found 22 segmentation images and 22 mask images.\n",
      "Overall Dice coefficient: 0.5186\n"
     ]
    }
   ],
   "source": [
    "%run evaluate.py --seg_dir results/reconstructed_images/ssim_multi_scale/T2w_aligned --mask_dir results/masks"
   ]
  },
  {
   "cell_type": "code",
   "execution_count": null,
   "metadata": {},
   "outputs": [],
   "source": [
    "%run evaluate.py --seg_dir results/reconstructed_images/ssim_multi_scale/T1w_aligned --mask_dir results/masks"
   ]
  },
  {
   "cell_type": "markdown",
   "metadata": {},
   "source": [
    "Overall Dice coefficient: 0.5258"
   ]
  },
  {
   "cell_type": "markdown",
   "metadata": {},
   "source": [
    "##### 3. SSIM and pixel loss without multi-scale features"
   ]
  },
  {
   "cell_type": "code",
   "execution_count": 6,
   "metadata": {},
   "outputs": [
    {
     "name": "stdout",
     "output_type": "stream",
     "text": [
      "Found 22 segmentation images and 22 mask images.\n",
      "Overall Dice coefficient: 0.5180\n"
     ]
    }
   ],
   "source": [
    "%run evaluate.py --seg_dir results/reconstructed_images/ssim_pixel/T2w_aligned --mask_dir results/masks"
   ]
  },
  {
   "cell_type": "code",
   "execution_count": null,
   "metadata": {},
   "outputs": [],
   "source": [
    "%run evaluate.py --seg_dir results/reconstructed_images/ssim_pixel/T1w_aligned --mask_dir results/masks"
   ]
  },
  {
   "cell_type": "markdown",
   "metadata": {},
   "source": [
    "Overall Dice coefficient: 0.5252"
   ]
  },
  {
   "cell_type": "markdown",
   "metadata": {},
   "source": [
    "##### 4. SSIM and pixel loss with multi-scale features"
   ]
  },
  {
   "cell_type": "code",
   "execution_count": 8,
   "metadata": {},
   "outputs": [
    {
     "name": "stdout",
     "output_type": "stream",
     "text": [
      "Found 22 segmentation images and 22 mask images.\n",
      "Overall Dice coefficient: 0.5164\n"
     ]
    }
   ],
   "source": [
    "%run evaluate.py --seg_dir results/reconstructed_images/ssim_pixel_multi_scale/T2w_aligned --mask_dir results/masks"
   ]
  },
  {
   "cell_type": "code",
   "execution_count": null,
   "metadata": {},
   "outputs": [],
   "source": [
    "%run evaluate.py --seg_dir results/reconstructed_images/ssim_pixel_multi_scale/T1w_aligned --mask_dir results/masks"
   ]
  },
  {
   "cell_type": "markdown",
   "metadata": {},
   "source": [
    "Overall Dice coefficient: 0.5239"
   ]
  },
  {
   "cell_type": "markdown",
   "metadata": {},
   "source": [
    "#### T2w image segmentations vs ground truths"
   ]
  },
  {
   "cell_type": "code",
   "execution_count": 7,
   "metadata": {},
   "outputs": [
    {
     "name": "stdout",
     "output_type": "stream",
     "text": [
      "Found 22 segmentation images and 22 mask images.\n",
      "Overall Dice coefficient: 0.5240\n"
     ]
    }
   ],
   "source": [
    "%run evaluate.py --seg_dir results/input_images/T2w --mask_dir results/masks/T2w"
   ]
  },
  {
   "cell_type": "markdown",
   "metadata": {},
   "source": [
    "Overall Dice coefficient: 0.5315"
   ]
  },
  {
   "cell_type": "markdown",
   "metadata": {},
   "source": [
    "#### T1w image segmentations vs ground truths"
   ]
  },
  {
   "cell_type": "code",
   "execution_count": 1,
   "metadata": {},
   "outputs": [
    {
     "name": "stdout",
     "output_type": "stream",
     "text": [
      "Found 22 segmentation images and 22 mask images.\n",
      "Overall Dice coefficient: 0.5314\n"
     ]
    }
   ],
   "source": [
    "%run evaluate.py --seg_dir results/input_images/T1w --mask_dir results/masks/T1w"
   ]
  }
 ],
 "metadata": {
  "kernelspec": {
   "display_name": "tf",
   "language": "python",
   "name": "python3"
  },
  "language_info": {
   "codemirror_mode": {
    "name": "ipython",
    "version": 3
   },
   "file_extension": ".py",
   "mimetype": "text/x-python",
   "name": "python",
   "nbconvert_exporter": "python",
   "pygments_lexer": "ipython3",
   "version": "3.9.0"
  }
 },
 "nbformat": 4,
 "nbformat_minor": 2
}
