{
 "cells": [
  {
   "cell_type": "code",
   "execution_count": 7,
   "metadata": {},
   "outputs": [],
   "source": [
    "import tensorflow as tf\n",
    "import cv2"
   ]
  },
  {
   "cell_type": "code",
   "execution_count": 2,
   "metadata": {},
   "outputs": [],
   "source": [
    "def residual_block(x, filters, kernel_size=3, stride=1, conv_shortcut=False, name='residual_block', is_training=True):\n",
    "    with tf.variable_scope(name):\n",
    "        shortcut = x\n",
    "        if conv_shortcut:\n",
    "            shortcut = tf.layers.conv2d(x, filters, 1, strides=stride, padding='SAME', name='shortcut')\n",
    "            shortcut = tf.layers.batch_normalization(shortcut, training=is_training, name='shortcut_bn')\n",
    "\n",
    "        x = tf.layers.conv2d(x, filters, kernel_size, strides=stride, padding='SAME', name='conv1')\n",
    "        x = tf.layers.batch_normalization(x, training=is_training, name='bn1')\n",
    "        x = tf.nn.relu(x)\n",
    "\n",
    "        x = tf.layers.conv2d(x, filters, kernel_size, padding='SAME', name='conv2')\n",
    "        x = tf.layers.batch_normalization(x, training=is_training, name='bn2')\n",
    "        x = x + shortcut\n",
    "        x = tf.nn.relu(x)\n",
    "\n",
    "        return x\n"
   ]
  },
  {
   "cell_type": "code",
   "execution_count": 9,
   "metadata": {},
   "outputs": [],
   "source": [
    "def build_model(image1, image2, is_training=True):\n",
    "\n",
    "    # Initial Convolution for both branches\n",
    "    conv1_branch1 = tf.layers.conv2d(image1, 64, 3, strides=1, padding='SAME', name='conv1_branch1')\n",
    "    conv1_branch2 = tf.layers.conv2d(image2, 64, 3, strides=1, padding='SAME', name='conv1_branch2')\n",
    "\n",
    "    # Residual Block for both branches\n",
    "    res_block_branch1 = residual_block(conv1_branch1, 64, name='residual_block_branch1', is_training=is_training)\n",
    "    res_block_branch2 = residual_block(conv1_branch2, 64, name='residual_block_branch2', is_training=is_training)\n",
    "\n",
    "    # Concatenate features from both branches\n",
    "    concatenated_features = tf.concat([res_block_branch1, res_block_branch2], axis=-1)\n",
    "\n",
    "    # Additional Residual Block on concatenated features\n",
    "    res_block_concat = residual_block(concatenated_features, 128, name='residual_block_concat', is_training=is_training)\n",
    "\n",
    "    # Further Convolution Layers\n",
    "    conv2 = tf.layers.conv2d(res_block_concat, 128, 3, strides=1, padding='SAME', name='conv2')\n",
    "    conv3 = tf.layers.conv2d(conv2, 128, 3, strides=1, padding='SAME', name='conv3')\n",
    "\n",
    "    # Sigmoid Activation\n",
    "    sigmoid_output = tf.nn.sigmoid(conv3)\n",
    "\n",
    "    # Weighted Average with source images\n",
    "    weighted_avg_output = (sigmoid_output + image1 + image2) / 3\n",
    "\n",
    "    return weighted_avg_output\n",
    "\n",
    "# Example usage\n",
    "# Create 2 random 256x256 images\n",
    "\n",
    "\n",
    "# Show image1 and image2\n",
    "cv2.imshow('image1', image1)\n",
    "cv2.imshow('image2', image2)\n",
    "cv2.waitKey(0)\n",
    "model_output = build_model(image1, image2, is_training=True)"
   ]
  }
 ],
 "metadata": {
  "kernelspec": {
   "display_name": "mti805",
   "language": "python",
   "name": "python3"
  },
  "language_info": {
   "codemirror_mode": {
    "name": "ipython",
    "version": 3
   },
   "file_extension": ".py",
   "mimetype": "text/x-python",
   "name": "python",
   "nbconvert_exporter": "python",
   "pygments_lexer": "ipython3",
   "version": "3.11.7"
  }
 },
 "nbformat": 4,
 "nbformat_minor": 2
}
